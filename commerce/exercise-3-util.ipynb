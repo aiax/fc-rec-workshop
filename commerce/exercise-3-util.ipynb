{
 "cells": [
  {
   "cell_type": "markdown",
   "metadata": {},
   "source": [
    "# Connect to Postgresql\n",
    "Import packages"
   ]
  },
  {
   "cell_type": "code",
   "execution_count": null,
   "metadata": {
    "collapsed": false
   },
   "outputs": [],
   "source": [
    "import psycopg2\n",
    "import psycopg2.extras\n",
    "from IPython.display import Image, display, HTML"
   ]
  },
  {
   "cell_type": "markdown",
   "metadata": {},
   "source": [
    "### Define Utility Functions"
   ]
  },
  {
   "cell_type": "markdown",
   "metadata": {},
   "source": [
    "Define a function for displaying item images"
   ]
  },
  {
   "cell_type": "code",
   "execution_count": null,
   "metadata": {
    "collapsed": true
   },
   "outputs": [],
   "source": [
    "def displayImageUrls(urls):\n",
    "    html = \"\"\n",
    "    for url in urls:\n",
    "        html += \"<img src='\" + url + \"' width='170' style='display:inline-block'>\"\n",
    "    display(HTML(html))"
   ]
  },
  {
   "cell_type": "markdown",
   "metadata": {},
   "source": [
    "Assume the query returns results that include 'item_image' and add the url to images."
   ]
  },
  {
   "cell_type": "code",
   "execution_count": null,
   "metadata": {
    "collapsed": true
   },
   "outputs": [],
   "source": [
    "def getImageUrls(conn, query):\n",
    "    images = []\n",
    "    with conn:\n",
    "        with conn.cursor(cursor_factory=psycopg2.extras.DictCursor) as cursor:\n",
    "            cursor.execute(query)\n",
    "            for record in cursor:\n",
    "                images.append(dict(record)['item_image'])\n",
    "    return images"
   ]
  },
  {
   "cell_type": "markdown",
   "metadata": {},
   "source": [
    "Connecto to local db"
   ]
  },
  {
   "cell_type": "code",
   "execution_count": null,
   "metadata": {
    "collapsed": true
   },
   "outputs": [],
   "source": [
    "conn = psycopg2.connect(\"dbname=postgres user=zinc password=\")"
   ]
  },
  {
   "cell_type": "markdown",
   "metadata": {},
   "source": [
    "# Show Items\n",
    "## Random Items"
   ]
  },
  {
   "cell_type": "code",
   "execution_count": null,
   "metadata": {
    "collapsed": false
   },
   "outputs": [],
   "source": [
    "query = '''\n",
    "select item_id, item_image, price, category1, category2, category3, category4, brand\n",
    "from site_product \n",
    "limit 10 offset 10;\n",
    "'''\n",
    "\n",
    "displayImageUrls(getImageUrls(conn, query))"
   ]
  },
  {
   "cell_type": "code",
   "execution_count": null,
   "metadata": {
    "collapsed": false
   },
   "outputs": [],
   "source": [
    "query = '''\n",
    "select item_image from product where item_id in ('97c3a67');\n",
    "'''\n",
    "\n",
    "displayImageUrls(getImageUrls(conn, query))"
   ]
  },
  {
   "cell_type": "markdown",
   "metadata": {},
   "source": [
    "## User's Viewed Items"
   ]
  },
  {
   "cell_type": "code",
   "execution_count": null,
   "metadata": {
    "collapsed": false
   },
   "outputs": [],
   "source": [
    "query = '''\n",
    "select t1.server_time server_time, t1.session_id session_id, t1.item_id item_id, t2.item_image item_image\n",
    "from view_log t1\n",
    "    join product t2 on t2.item_id = t1.item_id\n",
    "where uid = '00bb485'\n",
    "order by server_time asc\n",
    "'''\n",
    "\n",
    "displayImageUrls(getImageUrls(conn, query))"
   ]
  },
  {
   "cell_type": "markdown",
   "metadata": {},
   "source": [
    "## Most Popular Category Items"
   ]
  },
  {
   "cell_type": "code",
   "execution_count": null,
   "metadata": {
    "collapsed": false
   },
   "outputs": [],
   "source": [
    "query = '''\n",
    "select t1.item_id, t2.item_image, count(*) cnt\n",
    "from view_log t1\n",
    "    join product t2 on t2.item_id = t1.item_id\n",
    "where t2.category3 = '301f675'\n",
    "group by t1.item_id, t2.item_image\n",
    "order by cnt desc\n",
    "limit 20;\n",
    "'''\n",
    "\n",
    "displayImageUrls(getImageUrls(conn, query))"
   ]
  },
  {
   "cell_type": "code",
   "execution_count": null,
   "metadata": {
    "collapsed": false
   },
   "outputs": [],
   "source": [
    "query = '''\n",
    "select * from product_click_best a\n",
    "inner join product b on a.item_id = b.item_id\n",
    "order by rank\n",
    "limit 20;\n",
    "'''\n",
    "\n",
    "displayImageUrls(getImageUrls(conn, query))"
   ]
  },
  {
   "cell_type": "code",
   "execution_count": null,
   "metadata": {
    "collapsed": true
   },
   "outputs": [],
   "source": [
    "query = '''\n",
    "select * from product_click_best a\n",
    "inner join product b on a.item_id = b.item_id\n",
    "order by rank\n",
    "limit 20;\n",
    "'''\n",
    "\n",
    "displayImageUrls(getImageUrls(conn, query))"
   ]
  },
  {
   "cell_type": "code",
   "execution_count": null,
   "metadata": {
    "collapsed": true
   },
   "outputs": [],
   "source": [
    "query = '''\n",
    "select * from product_best a\n",
    "inner join product b on a.item_id = b.item_id\n",
    "order by rank\n",
    "limit 20;\n",
    "'''\n",
    "\n",
    "displayImageUrls(getImageUrls(conn, query))"
   ]
  },
  {
   "cell_type": "code",
   "execution_count": null,
   "metadata": {
    "collapsed": false
   },
   "outputs": [],
   "source": [
    "query = '''\n",
    "select * from category1_best a\n",
    "inner join product b on a.item_id = b.item_id\n",
    "order by rank\n",
    "limit 20;\n",
    "'''\n",
    "\n",
    "displayImageUrls(getImageUrls(conn, query))"
   ]
  },
  {
   "cell_type": "code",
   "execution_count": null,
   "metadata": {
    "collapsed": true
   },
   "outputs": [],
   "source": [
    "item_id = 'ac616a3'"
   ]
  },
  {
   "cell_type": "code",
   "execution_count": null,
   "metadata": {
    "collapsed": false
   },
   "outputs": [],
   "source": [
    "displayImageUrls(getImageUrls(conn, 'select * from product where item_id = \\'%s\\'' % item_id))"
   ]
  },
  {
   "cell_type": "code",
   "execution_count": null,
   "metadata": {
    "collapsed": false
   },
   "outputs": [],
   "source": [
    "query = '''\n",
    "select * from coo_rel a\n",
    "inner join product b on a.cross_sell_item_id = b.item_id\n",
    "where target_item_id = '%s'\n",
    "order by rank\n",
    "limit 20;\n",
    "'''  % item_id\n",
    "displayImageUrls(getImageUrls(conn, query))"
   ]
  },
  {
   "cell_type": "code",
   "execution_count": null,
   "metadata": {
    "collapsed": false
   },
   "outputs": [],
   "source": [
    "query = '''\n",
    "select * from tfidf_rel a\n",
    "inner join product b on a.cross_sell_item_id = b.item_id\n",
    "where target_item_id = '%s'\n",
    "order by rank\n",
    "limit 20;\n",
    "'''  % item_id\n",
    "\n",
    "displayImageUrls(getImageUrls(conn, query))"
   ]
  },
  {
   "cell_type": "code",
   "execution_count": null,
   "metadata": {
    "collapsed": false
   },
   "outputs": [],
   "source": [
    "query = '''\n",
    "select * from coo_cs_rel a\n",
    "inner join product b on a.cross_sell_item_id = b.item_id\n",
    "where target_item_id = '%s'\n",
    "order by rank\n",
    "limit 20;\n",
    "'''  % item_id\n",
    "\n",
    "displayImageUrls(getImageUrls(conn, query))"
   ]
  },
  {
   "cell_type": "code",
   "execution_count": null,
   "metadata": {
    "collapsed": true
   },
   "outputs": [],
   "source": [
    "\n",
    "\n"
   ]
  },
  {
   "cell_type": "markdown",
   "metadata": {},
   "source": [
    "Close the connection"
   ]
  },
  {
   "cell_type": "code",
   "execution_count": null,
   "metadata": {
    "collapsed": true
   },
   "outputs": [],
   "source": [
    "conn.close()"
   ]
  }
 ],
 "metadata": {
  "kernelspec": {
   "display_name": "Python 3",
   "language": "python",
   "name": "python3"
  },
  "language_info": {
   "codemirror_mode": {
    "name": "ipython",
    "version": 3
   },
   "file_extension": ".py",
   "mimetype": "text/x-python",
   "name": "python",
   "nbconvert_exporter": "python",
   "pygments_lexer": "ipython3",
   "version": "3.6.0"
  }
 },
 "nbformat": 4,
 "nbformat_minor": 2
}
